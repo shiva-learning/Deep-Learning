{
  "nbformat": 4,
  "nbformat_minor": 0,
  "metadata": {
    "kernelspec": {
      "display_name": "Python 3",
      "language": "python",
      "name": "python3"
    },
    "language_info": {
      "codemirror_mode": {
        "name": "ipython",
        "version": 3
      },
      "file_extension": ".py",
      "mimetype": "text/x-python",
      "name": "python",
      "nbconvert_exporter": "python",
      "pygments_lexer": "ipython3",
      "version": "3.6.5"
    },
    "colab": {
      "name": "CNN_Face_recognition.ipynb",
      "provenance": [],
      "toc_visible": true
    }
  },
  "cells": [
    {
      "cell_type": "markdown",
      "metadata": {
        "id": "PWss6T3Ff20V"
      },
      "source": [
        "# Face Recognition using CNN model"
      ]
    },
    {
      "cell_type": "markdown",
      "metadata": {
        "id": "u06uOT28f20a"
      },
      "source": [
        " # Step1:\n",
        " \n",
        "Importing libraries\n"
      ]
    },
    {
      "cell_type": "code",
      "metadata": {
        "id": "cxxwhXqaf20a"
      },
      "source": [
        "import keras\n",
        "from keras.models import Sequential\n",
        "from keras.layers import Conv2D, MaxPooling2D, Dense, Flatten, Dropout\n",
        "from keras.optimizers import Adam\n",
        "from keras.callbacks import TensorBoard\n",
        "\n",
        "import numpy as np\n",
        "import pandas as pd\n",
        "import matplotlib.pyplot as plt\n",
        "from sklearn.model_selection import train_test_split\n",
        "\n",
        "from sklearn.metrics import confusion_matrix\n",
        "from sklearn.metrics import classification_report\n",
        "from sklearn.metrics import roc_curve, auc\n",
        "from sklearn.metrics import accuracy_score\n",
        "from keras.utils import np_utils\n",
        "import itertools"
      ],
      "execution_count": 4,
      "outputs": []
    },
    {
      "cell_type": "code",
      "metadata": {
        "colab": {
          "base_uri": "https://localhost:8080/"
        },
        "id": "6DH_HRxWgWfN",
        "outputId": "55954d21-99f1-403a-9318-e19181e68508"
      },
      "source": [
        "from google.colab import drive\n",
        "drive.mount('/content/drive')"
      ],
      "execution_count": 5,
      "outputs": [
        {
          "output_type": "stream",
          "text": [
            "Mounted at /content/drive\n"
          ],
          "name": "stdout"
        }
      ]
    },
    {
      "cell_type": "markdown",
      "metadata": {
        "id": "oATbqBf7f20b"
      },
      "source": [
        "# Step2:\n",
        "\n",
        "* Load Dataset :\n",
        "Loading and normalizing"
      ]
    },
    {
      "cell_type": "code",
      "metadata": {
        "id": "F1VI9tsff9Db"
      },
      "source": [
        "#load dataset\n",
        "data = np.load('/content/drive/MyDrive/ORL_faces.npz') "
      ],
      "execution_count": 19,
      "outputs": []
    },
    {
      "cell_type": "code",
      "metadata": {
        "colab": {
          "base_uri": "https://localhost:8080/"
        },
        "id": "6sQ-8vUrleoU",
        "outputId": "c6f4d835-bbca-4226-ba4c-e6145dada8bf"
      },
      "source": [
        "np.unique(data)"
      ],
      "execution_count": 20,
      "outputs": [
        {
          "output_type": "execute_result",
          "data": {
            "text/plain": [
              "array(['testX', 'testY', 'trainX', 'trainY'], dtype='<U6')"
            ]
          },
          "metadata": {
            "tags": []
          },
          "execution_count": 20
        }
      ]
    },
    {
      "cell_type": "code",
      "metadata": {
        "id": "mJAMkbHrllaG"
      },
      "source": [
        "#extract the train data and normalize it\n",
        "x_train = data['trainX']\n",
        "x_train = np.array(x_train, dtype = 'float32')/255"
      ],
      "execution_count": 21,
      "outputs": []
    },
    {
      "cell_type": "code",
      "metadata": {
        "id": "_sZcY2GZl9C5"
      },
      "source": [
        "#extract the train data and normalize it\n",
        "x_test = data['testX']\n",
        "x_test = np.array(x_test, dtype = 'float32')/255"
      ],
      "execution_count": 24,
      "outputs": []
    },
    {
      "cell_type": "code",
      "metadata": {
        "id": "fUWjV7wwmXfb"
      },
      "source": [
        "y_train= data['trainY']\n",
        "y_test= data['testY']"
      ],
      "execution_count": 25,
      "outputs": []
    },
    {
      "cell_type": "code",
      "metadata": {
        "colab": {
          "base_uri": "https://localhost:8080/"
        },
        "id": "gIkTmNgSm9iz",
        "outputId": "30fc070e-5606-418a-9c08-9b4287be6fe9"
      },
      "source": [
        "print(x_train.shape)\n",
        "print(x_test.shape)"
      ],
      "execution_count": 27,
      "outputs": [
        {
          "output_type": "stream",
          "text": [
            "(240, 10304)\n",
            "(160, 10304)\n"
          ],
          "name": "stdout"
        }
      ]
    },
    {
      "cell_type": "markdown",
      "metadata": {
        "id": "6E0uDrLxf20c"
      },
      "source": [
        "# Step 3\n",
        "\n",
        "Split DataSet : \n",
        "\n"
      ]
    },
    {
      "cell_type": "code",
      "metadata": {
        "id": "uxBbpytwf20d"
      },
      "source": [
        "x_train, x_valid, y_train, y_valid= train_test_split(\n",
        "    x_train, y_train, test_size=.05, random_state=1234,)"
      ],
      "execution_count": 29,
      "outputs": []
    },
    {
      "cell_type": "code",
      "metadata": {
        "colab": {
          "base_uri": "https://localhost:8080/"
        },
        "id": "wPUbhyz-wSvx",
        "outputId": "9a5015c9-4ab5-44d2-be7c-1c58b91070b7"
      },
      "source": [
        "print(x_train.shape[0])\n",
        "print(x_valid.shape[0])"
      ],
      "execution_count": 30,
      "outputs": [
        {
          "output_type": "stream",
          "text": [
            "216\n",
            "12\n"
          ],
          "name": "stdout"
        }
      ]
    },
    {
      "cell_type": "markdown",
      "metadata": {
        "id": "F_4x9Ta1f20d"
      },
      "source": [
        "# Step 4\n",
        "\n",
        "Change the shape of the data"
      ]
    },
    {
      "cell_type": "code",
      "metadata": {
        "colab": {
          "base_uri": "https://localhost:8080/"
        },
        "id": "lEfX2ho1f20d",
        "outputId": "1a4f1864-0597-4805-8d87-a9d3b662dc80"
      },
      "source": [
        "#reshaping data\n",
        "x_train = x_train.reshape(-1,224,46,1)\n",
        "x_test = x_test.reshape(-1, 224, 46, 1)\n",
        "x_valid = x_valid.reshape(-1, 224, 46, 1)\n",
        "\n",
        "print(x_train.shape)\n",
        "print(x_test.shape)\n",
        "print(y_test)"
      ],
      "execution_count": 69,
      "outputs": [
        {
          "output_type": "stream",
          "text": [
            "(216, 224, 46, 1)\n",
            "(160, 224, 46, 1)\n",
            "[ 0  0  0  0  0  0  0  0  1  1  1  1  1  1  1  1  2  2  2  2  2  2  2  2\n",
            "  3  3  3  3  3  3  3  3  4  4  4  4  4  4  4  4  5  5  5  5  5  5  5  5\n",
            "  6  6  6  6  6  6  6  6  7  7  7  7  7  7  7  7  8  8  8  8  8  8  8  8\n",
            "  9  9  9  9  9  9  9  9 10 10 10 10 10 10 10 10 11 11 11 11 11 11 11 11\n",
            " 12 12 12 12 12 12 12 12 13 13 13 13 13 13 13 13 14 14 14 14 14 14 14 14\n",
            " 15 15 15 15 15 15 15 15 16 16 16 16 16 16 16 16 17 17 17 17 17 17 17 17\n",
            " 18 18 18 18 18 18 18 18 19 19 19 19 19 19 19 19]\n"
          ],
          "name": "stdout"
        }
      ]
    },
    {
      "cell_type": "markdown",
      "metadata": {
        "id": "ImdYU3gjf20d"
      },
      "source": [
        "# Step 5\n",
        "\n",
        "\n",
        "Build CNN model:\n",
        " \n",
        " "
      ]
    },
    {
      "cell_type": "code",
      "metadata": {
        "id": "eikemILeCwcl"
      },
      "source": [
        "im_shape = (224,46,1)"
      ],
      "execution_count": 70,
      "outputs": []
    },
    {
      "cell_type": "code",
      "metadata": {
        "id": "HQMNXdEXf20e"
      },
      "source": [
        "\n",
        "#filters= the depth of output image or kernels\n",
        "\n",
        "cnn_model= Sequential([\n",
        "    Conv2D(filters=36, kernel_size=7, activation='relu', input_shape= im_shape),\n",
        "    MaxPooling2D(pool_size=2),\n",
        "    Conv2D(filters=54, kernel_size=5, activation='relu', input_shape= im_shape),\n",
        "    MaxPooling2D(pool_size=2),\n",
        "    Flatten(),\n",
        "    Dense(2024, activation='relu'),\n",
        "    Dropout(0.5),\n",
        "    Dense(1024, activation='relu'),\n",
        "    Dropout(0.5),\n",
        "    Dense(512, activation='relu'),\n",
        "    Dropout(0.5),\n",
        "    #20 is the number of outputs\n",
        "    Dense(20, activation='softmax')  \n",
        "])\n",
        "\n",
        "cnn_model.compile(\n",
        "    loss='sparse_categorical_crossentropy',\n",
        "    optimizer=Adam(lr=0.0001),\n",
        "    metrics=['accuracy']\n",
        ")"
      ],
      "execution_count": 71,
      "outputs": []
    },
    {
      "cell_type": "markdown",
      "metadata": {
        "id": "YC4N55ipf20e"
      },
      "source": [
        "Show the model's parameters."
      ]
    },
    {
      "cell_type": "code",
      "metadata": {
        "id": "cVe_hAuff20e",
        "colab": {
          "base_uri": "https://localhost:8080/"
        },
        "outputId": "2eb8df70-ac0c-420e-bc25-ada2f0f7d83d"
      },
      "source": [
        "cnn_model.summary()"
      ],
      "execution_count": 72,
      "outputs": [
        {
          "output_type": "stream",
          "text": [
            "Model: \"sequential_2\"\n",
            "_________________________________________________________________\n",
            "Layer (type)                 Output Shape              Param #   \n",
            "=================================================================\n",
            "conv2d_4 (Conv2D)            (None, 218, 40, 36)       1800      \n",
            "_________________________________________________________________\n",
            "max_pooling2d_4 (MaxPooling2 (None, 109, 20, 36)       0         \n",
            "_________________________________________________________________\n",
            "conv2d_5 (Conv2D)            (None, 105, 16, 54)       48654     \n",
            "_________________________________________________________________\n",
            "max_pooling2d_5 (MaxPooling2 (None, 52, 8, 54)         0         \n",
            "_________________________________________________________________\n",
            "flatten_2 (Flatten)          (None, 22464)             0         \n",
            "_________________________________________________________________\n",
            "dense_8 (Dense)              (None, 2024)              45469160  \n",
            "_________________________________________________________________\n",
            "dropout_6 (Dropout)          (None, 2024)              0         \n",
            "_________________________________________________________________\n",
            "dense_9 (Dense)              (None, 1024)              2073600   \n",
            "_________________________________________________________________\n",
            "dropout_7 (Dropout)          (None, 1024)              0         \n",
            "_________________________________________________________________\n",
            "dense_10 (Dense)             (None, 512)               524800    \n",
            "_________________________________________________________________\n",
            "dropout_8 (Dropout)          (None, 512)               0         \n",
            "_________________________________________________________________\n",
            "dense_11 (Dense)             (None, 20)                10260     \n",
            "=================================================================\n",
            "Total params: 48,128,274\n",
            "Trainable params: 48,128,274\n",
            "Non-trainable params: 0\n",
            "_________________________________________________________________\n"
          ],
          "name": "stdout"
        }
      ]
    },
    {
      "cell_type": "markdown",
      "metadata": {
        "id": "Ug13pnEQf20e"
      },
      "source": [
        "# Step 6\n",
        "\n",
        "Train the Model\n",
        "\n",
        "* Note: You can change the number of epochs\n"
      ]
    },
    {
      "cell_type": "code",
      "metadata": {
        "id": "ccrAdfbQf20f",
        "colab": {
          "base_uri": "https://localhost:8080/"
        },
        "outputId": "0992451a-586e-4a96-9c6d-eba4afbe946b"
      },
      "source": [
        "train_model=cnn_model.fit(\n",
        "    np.array(x_train), np.array(y_train), batch_size=512,\n",
        "    epochs=250, verbose=2,\n",
        "    validation_data=(np.array(x_valid),np.array(y_valid)),\n",
        ")"
      ],
      "execution_count": 73,
      "outputs": [
        {
          "output_type": "stream",
          "text": [
            "Epoch 1/250\n",
            "1/1 - 7s - loss: 2.9991 - accuracy: 0.0741 - val_loss: 3.0139 - val_accuracy: 0.0000e+00\n",
            "Epoch 2/250\n",
            "1/1 - 6s - loss: 2.9840 - accuracy: 0.0509 - val_loss: 3.0191 - val_accuracy: 0.0000e+00\n",
            "Epoch 3/250\n",
            "1/1 - 6s - loss: 3.0054 - accuracy: 0.0833 - val_loss: 3.0278 - val_accuracy: 0.0000e+00\n",
            "Epoch 4/250\n",
            "1/1 - 6s - loss: 2.9983 - accuracy: 0.0417 - val_loss: 3.0287 - val_accuracy: 0.0000e+00\n",
            "Epoch 5/250\n",
            "1/1 - 6s - loss: 3.0179 - accuracy: 0.0648 - val_loss: 3.0205 - val_accuracy: 0.0833\n",
            "Epoch 6/250\n",
            "1/1 - 6s - loss: 3.0044 - accuracy: 0.0648 - val_loss: 3.0154 - val_accuracy: 0.0833\n",
            "Epoch 7/250\n",
            "1/1 - 6s - loss: 2.9928 - accuracy: 0.0602 - val_loss: 3.0122 - val_accuracy: 0.0833\n",
            "Epoch 8/250\n",
            "1/1 - 6s - loss: 3.0120 - accuracy: 0.0694 - val_loss: 3.0079 - val_accuracy: 0.0833\n",
            "Epoch 9/250\n",
            "1/1 - 6s - loss: 3.0028 - accuracy: 0.0509 - val_loss: 3.0024 - val_accuracy: 0.0833\n",
            "Epoch 10/250\n",
            "1/1 - 6s - loss: 3.0045 - accuracy: 0.0602 - val_loss: 2.9992 - val_accuracy: 0.0833\n",
            "Epoch 11/250\n",
            "1/1 - 6s - loss: 3.0043 - accuracy: 0.0694 - val_loss: 2.9978 - val_accuracy: 0.0833\n",
            "Epoch 12/250\n",
            "1/1 - 6s - loss: 2.9809 - accuracy: 0.0833 - val_loss: 2.9960 - val_accuracy: 0.1667\n",
            "Epoch 13/250\n",
            "1/1 - 6s - loss: 2.9866 - accuracy: 0.0370 - val_loss: 2.9933 - val_accuracy: 0.1667\n",
            "Epoch 14/250\n",
            "1/1 - 6s - loss: 2.9924 - accuracy: 0.0509 - val_loss: 2.9913 - val_accuracy: 0.1667\n",
            "Epoch 15/250\n",
            "1/1 - 6s - loss: 2.9790 - accuracy: 0.0972 - val_loss: 2.9892 - val_accuracy: 0.1667\n",
            "Epoch 16/250\n",
            "1/1 - 6s - loss: 2.9637 - accuracy: 0.0694 - val_loss: 2.9866 - val_accuracy: 0.1667\n",
            "Epoch 17/250\n",
            "1/1 - 6s - loss: 2.9762 - accuracy: 0.0602 - val_loss: 2.9851 - val_accuracy: 0.1667\n",
            "Epoch 18/250\n",
            "1/1 - 6s - loss: 2.9598 - accuracy: 0.0741 - val_loss: 2.9831 - val_accuracy: 0.0833\n",
            "Epoch 19/250\n",
            "1/1 - 6s - loss: 2.9742 - accuracy: 0.0926 - val_loss: 2.9810 - val_accuracy: 0.1667\n",
            "Epoch 20/250\n",
            "1/1 - 6s - loss: 2.9547 - accuracy: 0.0926 - val_loss: 2.9792 - val_accuracy: 0.1667\n",
            "Epoch 21/250\n",
            "1/1 - 6s - loss: 2.9461 - accuracy: 0.1296 - val_loss: 2.9779 - val_accuracy: 0.1667\n",
            "Epoch 22/250\n",
            "1/1 - 6s - loss: 2.9501 - accuracy: 0.1111 - val_loss: 2.9761 - val_accuracy: 0.1667\n",
            "Epoch 23/250\n",
            "1/1 - 6s - loss: 2.9461 - accuracy: 0.1157 - val_loss: 2.9739 - val_accuracy: 0.1667\n",
            "Epoch 24/250\n",
            "1/1 - 6s - loss: 2.9468 - accuracy: 0.1250 - val_loss: 2.9707 - val_accuracy: 0.1667\n",
            "Epoch 25/250\n",
            "1/1 - 6s - loss: 2.9372 - accuracy: 0.1065 - val_loss: 2.9669 - val_accuracy: 0.1667\n",
            "Epoch 26/250\n",
            "1/1 - 6s - loss: 2.9355 - accuracy: 0.1343 - val_loss: 2.9598 - val_accuracy: 0.1667\n",
            "Epoch 27/250\n",
            "1/1 - 6s - loss: 2.9298 - accuracy: 0.1250 - val_loss: 2.9520 - val_accuracy: 0.1667\n",
            "Epoch 28/250\n",
            "1/1 - 6s - loss: 2.9097 - accuracy: 0.1343 - val_loss: 2.9437 - val_accuracy: 0.1667\n",
            "Epoch 29/250\n",
            "1/1 - 6s - loss: 2.9149 - accuracy: 0.1157 - val_loss: 2.9353 - val_accuracy: 0.1667\n",
            "Epoch 30/250\n",
            "1/1 - 6s - loss: 2.9048 - accuracy: 0.1574 - val_loss: 2.9266 - val_accuracy: 0.1667\n",
            "Epoch 31/250\n",
            "1/1 - 6s - loss: 2.8913 - accuracy: 0.1250 - val_loss: 2.9196 - val_accuracy: 0.1667\n",
            "Epoch 32/250\n",
            "1/1 - 6s - loss: 2.8817 - accuracy: 0.1343 - val_loss: 2.9112 - val_accuracy: 0.1667\n",
            "Epoch 33/250\n",
            "1/1 - 6s - loss: 2.8680 - accuracy: 0.1389 - val_loss: 2.9022 - val_accuracy: 0.1667\n",
            "Epoch 34/250\n",
            "1/1 - 6s - loss: 2.8816 - accuracy: 0.1389 - val_loss: 2.8910 - val_accuracy: 0.1667\n",
            "Epoch 35/250\n",
            "1/1 - 6s - loss: 2.8436 - accuracy: 0.1343 - val_loss: 2.8779 - val_accuracy: 0.1667\n",
            "Epoch 36/250\n",
            "1/1 - 6s - loss: 2.8425 - accuracy: 0.1759 - val_loss: 2.8628 - val_accuracy: 0.2500\n",
            "Epoch 37/250\n",
            "1/1 - 6s - loss: 2.8041 - accuracy: 0.2083 - val_loss: 2.8448 - val_accuracy: 0.2500\n",
            "Epoch 38/250\n",
            "1/1 - 6s - loss: 2.8355 - accuracy: 0.1574 - val_loss: 2.8269 - val_accuracy: 0.2500\n",
            "Epoch 39/250\n",
            "1/1 - 6s - loss: 2.7987 - accuracy: 0.1481 - val_loss: 2.8048 - val_accuracy: 0.2500\n",
            "Epoch 40/250\n",
            "1/1 - 6s - loss: 2.7651 - accuracy: 0.1944 - val_loss: 2.7798 - val_accuracy: 0.4167\n",
            "Epoch 41/250\n",
            "1/1 - 6s - loss: 2.7643 - accuracy: 0.2083 - val_loss: 2.7536 - val_accuracy: 0.4167\n",
            "Epoch 42/250\n",
            "1/1 - 6s - loss: 2.7327 - accuracy: 0.1944 - val_loss: 2.7244 - val_accuracy: 0.4167\n",
            "Epoch 43/250\n",
            "1/1 - 6s - loss: 2.7186 - accuracy: 0.2269 - val_loss: 2.6915 - val_accuracy: 0.4167\n",
            "Epoch 44/250\n",
            "1/1 - 6s - loss: 2.6818 - accuracy: 0.2593 - val_loss: 2.6566 - val_accuracy: 0.4167\n",
            "Epoch 45/250\n",
            "1/1 - 6s - loss: 2.6448 - accuracy: 0.2546 - val_loss: 2.6198 - val_accuracy: 0.4167\n",
            "Epoch 46/250\n",
            "1/1 - 6s - loss: 2.5764 - accuracy: 0.2870 - val_loss: 2.5759 - val_accuracy: 0.4167\n",
            "Epoch 47/250\n",
            "1/1 - 6s - loss: 2.5610 - accuracy: 0.2963 - val_loss: 2.5239 - val_accuracy: 0.5000\n",
            "Epoch 48/250\n",
            "1/1 - 6s - loss: 2.5307 - accuracy: 0.3148 - val_loss: 2.4670 - val_accuracy: 0.5000\n",
            "Epoch 49/250\n",
            "1/1 - 6s - loss: 2.5077 - accuracy: 0.3009 - val_loss: 2.4070 - val_accuracy: 0.4167\n",
            "Epoch 50/250\n",
            "1/1 - 6s - loss: 2.4373 - accuracy: 0.2963 - val_loss: 2.3539 - val_accuracy: 0.4167\n",
            "Epoch 51/250\n",
            "1/1 - 6s - loss: 2.4079 - accuracy: 0.3333 - val_loss: 2.2976 - val_accuracy: 0.4167\n",
            "Epoch 52/250\n",
            "1/1 - 6s - loss: 2.3513 - accuracy: 0.3241 - val_loss: 2.2453 - val_accuracy: 0.4167\n",
            "Epoch 53/250\n",
            "1/1 - 6s - loss: 2.3038 - accuracy: 0.3426 - val_loss: 2.1897 - val_accuracy: 0.3333\n",
            "Epoch 54/250\n",
            "1/1 - 6s - loss: 2.2126 - accuracy: 0.3519 - val_loss: 2.1295 - val_accuracy: 0.3333\n",
            "Epoch 55/250\n",
            "1/1 - 6s - loss: 2.1593 - accuracy: 0.3981 - val_loss: 2.0663 - val_accuracy: 0.4167\n",
            "Epoch 56/250\n",
            "1/1 - 6s - loss: 2.1609 - accuracy: 0.3380 - val_loss: 2.0129 - val_accuracy: 0.4167\n",
            "Epoch 57/250\n",
            "1/1 - 6s - loss: 2.0776 - accuracy: 0.4120 - val_loss: 1.9469 - val_accuracy: 0.4167\n",
            "Epoch 58/250\n",
            "1/1 - 6s - loss: 2.1148 - accuracy: 0.3611 - val_loss: 1.8908 - val_accuracy: 0.5000\n",
            "Epoch 59/250\n",
            "1/1 - 6s - loss: 1.9518 - accuracy: 0.4537 - val_loss: 1.8339 - val_accuracy: 0.5833\n",
            "Epoch 60/250\n",
            "1/1 - 6s - loss: 1.8601 - accuracy: 0.5000 - val_loss: 1.7665 - val_accuracy: 0.5833\n",
            "Epoch 61/250\n",
            "1/1 - 6s - loss: 1.8120 - accuracy: 0.4537 - val_loss: 1.6966 - val_accuracy: 0.5833\n",
            "Epoch 62/250\n",
            "1/1 - 6s - loss: 1.8125 - accuracy: 0.4676 - val_loss: 1.6357 - val_accuracy: 0.5833\n",
            "Epoch 63/250\n",
            "1/1 - 6s - loss: 1.7563 - accuracy: 0.4907 - val_loss: 1.5661 - val_accuracy: 0.5833\n",
            "Epoch 64/250\n",
            "1/1 - 6s - loss: 1.6771 - accuracy: 0.4861 - val_loss: 1.4917 - val_accuracy: 0.5833\n",
            "Epoch 65/250\n",
            "1/1 - 6s - loss: 1.5810 - accuracy: 0.5926 - val_loss: 1.4280 - val_accuracy: 0.5833\n",
            "Epoch 66/250\n",
            "1/1 - 6s - loss: 1.5014 - accuracy: 0.5787 - val_loss: 1.3653 - val_accuracy: 0.5833\n",
            "Epoch 67/250\n",
            "1/1 - 6s - loss: 1.5422 - accuracy: 0.5648 - val_loss: 1.3074 - val_accuracy: 0.6667\n",
            "Epoch 68/250\n",
            "1/1 - 6s - loss: 1.3342 - accuracy: 0.6157 - val_loss: 1.2505 - val_accuracy: 0.6667\n",
            "Epoch 69/250\n",
            "1/1 - 6s - loss: 1.3532 - accuracy: 0.6065 - val_loss: 1.1810 - val_accuracy: 0.6667\n",
            "Epoch 70/250\n",
            "1/1 - 6s - loss: 1.3755 - accuracy: 0.5694 - val_loss: 1.1270 - val_accuracy: 0.8333\n",
            "Epoch 71/250\n",
            "1/1 - 6s - loss: 1.3165 - accuracy: 0.6019 - val_loss: 1.0875 - val_accuracy: 0.8333\n",
            "Epoch 72/250\n",
            "1/1 - 6s - loss: 1.2943 - accuracy: 0.6296 - val_loss: 1.0629 - val_accuracy: 0.7500\n",
            "Epoch 73/250\n",
            "1/1 - 6s - loss: 1.1436 - accuracy: 0.6481 - val_loss: 1.0234 - val_accuracy: 0.7500\n",
            "Epoch 74/250\n",
            "1/1 - 6s - loss: 1.1120 - accuracy: 0.6944 - val_loss: 0.9570 - val_accuracy: 0.7500\n",
            "Epoch 75/250\n",
            "1/1 - 6s - loss: 0.9844 - accuracy: 0.7407 - val_loss: 0.8983 - val_accuracy: 0.7500\n",
            "Epoch 76/250\n",
            "1/1 - 6s - loss: 1.0595 - accuracy: 0.7083 - val_loss: 0.8401 - val_accuracy: 0.9167\n",
            "Epoch 77/250\n",
            "1/1 - 6s - loss: 0.9578 - accuracy: 0.7315 - val_loss: 0.7857 - val_accuracy: 0.9167\n",
            "Epoch 78/250\n",
            "1/1 - 6s - loss: 0.9363 - accuracy: 0.7361 - val_loss: 0.7520 - val_accuracy: 0.9167\n",
            "Epoch 79/250\n",
            "1/1 - 6s - loss: 0.9996 - accuracy: 0.6667 - val_loss: 0.6987 - val_accuracy: 0.9167\n",
            "Epoch 80/250\n",
            "1/1 - 6s - loss: 0.8967 - accuracy: 0.7130 - val_loss: 0.6638 - val_accuracy: 0.9167\n",
            "Epoch 81/250\n",
            "1/1 - 6s - loss: 0.9543 - accuracy: 0.6991 - val_loss: 0.6410 - val_accuracy: 0.8333\n",
            "Epoch 82/250\n",
            "1/1 - 6s - loss: 0.9312 - accuracy: 0.6898 - val_loss: 0.6319 - val_accuracy: 0.8333\n",
            "Epoch 83/250\n",
            "1/1 - 6s - loss: 0.7983 - accuracy: 0.7454 - val_loss: 0.6302 - val_accuracy: 0.8333\n",
            "Epoch 84/250\n",
            "1/1 - 6s - loss: 0.7388 - accuracy: 0.7685 - val_loss: 0.6021 - val_accuracy: 0.9167\n",
            "Epoch 85/250\n",
            "1/1 - 6s - loss: 0.6882 - accuracy: 0.7731 - val_loss: 0.5514 - val_accuracy: 0.9167\n",
            "Epoch 86/250\n",
            "1/1 - 6s - loss: 0.6875 - accuracy: 0.8194 - val_loss: 0.5184 - val_accuracy: 0.9167\n",
            "Epoch 87/250\n",
            "1/1 - 6s - loss: 0.6945 - accuracy: 0.7593 - val_loss: 0.4730 - val_accuracy: 0.9167\n",
            "Epoch 88/250\n",
            "1/1 - 6s - loss: 0.6147 - accuracy: 0.8380 - val_loss: 0.4787 - val_accuracy: 1.0000\n",
            "Epoch 89/250\n",
            "1/1 - 6s - loss: 0.6225 - accuracy: 0.7870 - val_loss: 0.5110 - val_accuracy: 0.9167\n",
            "Epoch 90/250\n",
            "1/1 - 6s - loss: 0.5349 - accuracy: 0.8287 - val_loss: 0.4793 - val_accuracy: 0.9167\n",
            "Epoch 91/250\n",
            "1/1 - 6s - loss: 0.5636 - accuracy: 0.8287 - val_loss: 0.4046 - val_accuracy: 0.9167\n",
            "Epoch 92/250\n",
            "1/1 - 6s - loss: 0.5094 - accuracy: 0.8380 - val_loss: 0.3635 - val_accuracy: 1.0000\n",
            "Epoch 93/250\n",
            "1/1 - 6s - loss: 0.5133 - accuracy: 0.8333 - val_loss: 0.3426 - val_accuracy: 1.0000\n",
            "Epoch 94/250\n",
            "1/1 - 6s - loss: 0.4959 - accuracy: 0.8565 - val_loss: 0.3289 - val_accuracy: 1.0000\n",
            "Epoch 95/250\n",
            "1/1 - 6s - loss: 0.5000 - accuracy: 0.8519 - val_loss: 0.3461 - val_accuracy: 1.0000\n",
            "Epoch 96/250\n",
            "1/1 - 6s - loss: 0.3711 - accuracy: 0.8889 - val_loss: 0.3546 - val_accuracy: 1.0000\n",
            "Epoch 97/250\n",
            "1/1 - 6s - loss: 0.4326 - accuracy: 0.8750 - val_loss: 0.3160 - val_accuracy: 1.0000\n",
            "Epoch 98/250\n",
            "1/1 - 6s - loss: 0.4177 - accuracy: 0.8889 - val_loss: 0.2925 - val_accuracy: 1.0000\n",
            "Epoch 99/250\n",
            "1/1 - 6s - loss: 0.4082 - accuracy: 0.8750 - val_loss: 0.2731 - val_accuracy: 1.0000\n",
            "Epoch 100/250\n",
            "1/1 - 7s - loss: 0.4303 - accuracy: 0.8750 - val_loss: 0.2551 - val_accuracy: 1.0000\n",
            "Epoch 101/250\n",
            "1/1 - 6s - loss: 0.3242 - accuracy: 0.9120 - val_loss: 0.2450 - val_accuracy: 1.0000\n",
            "Epoch 102/250\n",
            "1/1 - 6s - loss: 0.3864 - accuracy: 0.8796 - val_loss: 0.2689 - val_accuracy: 0.9167\n",
            "Epoch 103/250\n",
            "1/1 - 6s - loss: 0.3056 - accuracy: 0.9213 - val_loss: 0.3074 - val_accuracy: 0.9167\n",
            "Epoch 104/250\n",
            "1/1 - 6s - loss: 0.2905 - accuracy: 0.9028 - val_loss: 0.2591 - val_accuracy: 0.9167\n",
            "Epoch 105/250\n",
            "1/1 - 6s - loss: 0.3860 - accuracy: 0.8843 - val_loss: 0.1941 - val_accuracy: 1.0000\n",
            "Epoch 106/250\n",
            "1/1 - 6s - loss: 0.2900 - accuracy: 0.9028 - val_loss: 0.1642 - val_accuracy: 1.0000\n",
            "Epoch 107/250\n",
            "1/1 - 6s - loss: 0.3283 - accuracy: 0.8981 - val_loss: 0.1559 - val_accuracy: 1.0000\n",
            "Epoch 108/250\n",
            "1/1 - 6s - loss: 0.2773 - accuracy: 0.9028 - val_loss: 0.1520 - val_accuracy: 1.0000\n",
            "Epoch 109/250\n",
            "1/1 - 6s - loss: 0.2769 - accuracy: 0.9120 - val_loss: 0.1512 - val_accuracy: 1.0000\n",
            "Epoch 110/250\n",
            "1/1 - 6s - loss: 0.2420 - accuracy: 0.9306 - val_loss: 0.1622 - val_accuracy: 1.0000\n",
            "Epoch 111/250\n",
            "1/1 - 6s - loss: 0.2633 - accuracy: 0.9120 - val_loss: 0.1707 - val_accuracy: 1.0000\n",
            "Epoch 112/250\n",
            "1/1 - 6s - loss: 0.2374 - accuracy: 0.9306 - val_loss: 0.1661 - val_accuracy: 1.0000\n",
            "Epoch 113/250\n",
            "1/1 - 6s - loss: 0.2024 - accuracy: 0.9537 - val_loss: 0.1516 - val_accuracy: 1.0000\n",
            "Epoch 114/250\n",
            "1/1 - 6s - loss: 0.2436 - accuracy: 0.9306 - val_loss: 0.1367 - val_accuracy: 1.0000\n",
            "Epoch 115/250\n",
            "1/1 - 6s - loss: 0.2172 - accuracy: 0.9444 - val_loss: 0.1299 - val_accuracy: 1.0000\n",
            "Epoch 116/250\n",
            "1/1 - 6s - loss: 0.1988 - accuracy: 0.9352 - val_loss: 0.1241 - val_accuracy: 1.0000\n",
            "Epoch 117/250\n",
            "1/1 - 6s - loss: 0.2077 - accuracy: 0.9444 - val_loss: 0.1245 - val_accuracy: 1.0000\n",
            "Epoch 118/250\n",
            "1/1 - 6s - loss: 0.2095 - accuracy: 0.9491 - val_loss: 0.1338 - val_accuracy: 1.0000\n",
            "Epoch 119/250\n",
            "1/1 - 6s - loss: 0.1870 - accuracy: 0.9491 - val_loss: 0.1329 - val_accuracy: 1.0000\n",
            "Epoch 120/250\n",
            "1/1 - 6s - loss: 0.1723 - accuracy: 0.9676 - val_loss: 0.1175 - val_accuracy: 1.0000\n",
            "Epoch 121/250\n",
            "1/1 - 6s - loss: 0.2147 - accuracy: 0.9398 - val_loss: 0.1081 - val_accuracy: 1.0000\n",
            "Epoch 122/250\n",
            "1/1 - 6s - loss: 0.1924 - accuracy: 0.9491 - val_loss: 0.1012 - val_accuracy: 1.0000\n",
            "Epoch 123/250\n",
            "1/1 - 6s - loss: 0.1759 - accuracy: 0.9352 - val_loss: 0.0899 - val_accuracy: 1.0000\n",
            "Epoch 124/250\n",
            "1/1 - 6s - loss: 0.1806 - accuracy: 0.9398 - val_loss: 0.0829 - val_accuracy: 1.0000\n",
            "Epoch 125/250\n",
            "1/1 - 6s - loss: 0.1460 - accuracy: 0.9630 - val_loss: 0.0780 - val_accuracy: 1.0000\n",
            "Epoch 126/250\n",
            "1/1 - 6s - loss: 0.1520 - accuracy: 0.9676 - val_loss: 0.0746 - val_accuracy: 1.0000\n",
            "Epoch 127/250\n",
            "1/1 - 6s - loss: 0.1504 - accuracy: 0.9630 - val_loss: 0.0728 - val_accuracy: 1.0000\n",
            "Epoch 128/250\n",
            "1/1 - 6s - loss: 0.1444 - accuracy: 0.9676 - val_loss: 0.0746 - val_accuracy: 1.0000\n",
            "Epoch 129/250\n",
            "1/1 - 6s - loss: 0.1465 - accuracy: 0.9676 - val_loss: 0.0787 - val_accuracy: 1.0000\n",
            "Epoch 130/250\n",
            "1/1 - 6s - loss: 0.1462 - accuracy: 0.9769 - val_loss: 0.0783 - val_accuracy: 1.0000\n",
            "Epoch 131/250\n",
            "1/1 - 6s - loss: 0.1523 - accuracy: 0.9583 - val_loss: 0.0783 - val_accuracy: 1.0000\n",
            "Epoch 132/250\n",
            "1/1 - 6s - loss: 0.1174 - accuracy: 0.9769 - val_loss: 0.0764 - val_accuracy: 1.0000\n",
            "Epoch 133/250\n",
            "1/1 - 6s - loss: 0.0787 - accuracy: 0.9861 - val_loss: 0.0751 - val_accuracy: 1.0000\n",
            "Epoch 134/250\n",
            "1/1 - 6s - loss: 0.1069 - accuracy: 0.9722 - val_loss: 0.0732 - val_accuracy: 1.0000\n",
            "Epoch 135/250\n",
            "1/1 - 6s - loss: 0.0694 - accuracy: 0.9861 - val_loss: 0.0712 - val_accuracy: 1.0000\n",
            "Epoch 136/250\n",
            "1/1 - 6s - loss: 0.1129 - accuracy: 0.9769 - val_loss: 0.0654 - val_accuracy: 1.0000\n",
            "Epoch 137/250\n",
            "1/1 - 6s - loss: 0.0696 - accuracy: 0.9861 - val_loss: 0.0620 - val_accuracy: 1.0000\n",
            "Epoch 138/250\n",
            "1/1 - 6s - loss: 0.0696 - accuracy: 1.0000 - val_loss: 0.0591 - val_accuracy: 1.0000\n",
            "Epoch 139/250\n",
            "1/1 - 6s - loss: 0.0801 - accuracy: 1.0000 - val_loss: 0.0564 - val_accuracy: 1.0000\n",
            "Epoch 140/250\n",
            "1/1 - 6s - loss: 0.1059 - accuracy: 0.9630 - val_loss: 0.0545 - val_accuracy: 1.0000\n",
            "Epoch 141/250\n",
            "1/1 - 6s - loss: 0.1039 - accuracy: 0.9769 - val_loss: 0.0492 - val_accuracy: 1.0000\n",
            "Epoch 142/250\n",
            "1/1 - 6s - loss: 0.0853 - accuracy: 0.9769 - val_loss: 0.0475 - val_accuracy: 1.0000\n",
            "Epoch 143/250\n",
            "1/1 - 6s - loss: 0.0998 - accuracy: 0.9769 - val_loss: 0.0474 - val_accuracy: 1.0000\n",
            "Epoch 144/250\n",
            "1/1 - 6s - loss: 0.0996 - accuracy: 0.9676 - val_loss: 0.0494 - val_accuracy: 1.0000\n",
            "Epoch 145/250\n",
            "1/1 - 6s - loss: 0.0699 - accuracy: 0.9954 - val_loss: 0.0505 - val_accuracy: 1.0000\n",
            "Epoch 146/250\n",
            "1/1 - 6s - loss: 0.0859 - accuracy: 0.9769 - val_loss: 0.0509 - val_accuracy: 1.0000\n",
            "Epoch 147/250\n",
            "1/1 - 6s - loss: 0.0679 - accuracy: 0.9907 - val_loss: 0.0534 - val_accuracy: 1.0000\n",
            "Epoch 148/250\n",
            "1/1 - 6s - loss: 0.0930 - accuracy: 0.9815 - val_loss: 0.0585 - val_accuracy: 1.0000\n",
            "Epoch 149/250\n",
            "1/1 - 6s - loss: 0.0828 - accuracy: 0.9861 - val_loss: 0.0582 - val_accuracy: 1.0000\n",
            "Epoch 150/250\n",
            "1/1 - 6s - loss: 0.1231 - accuracy: 0.9491 - val_loss: 0.0470 - val_accuracy: 1.0000\n",
            "Epoch 151/250\n",
            "1/1 - 6s - loss: 0.0824 - accuracy: 0.9676 - val_loss: 0.0387 - val_accuracy: 1.0000\n",
            "Epoch 152/250\n",
            "1/1 - 6s - loss: 0.0800 - accuracy: 0.9769 - val_loss: 0.0354 - val_accuracy: 1.0000\n",
            "Epoch 153/250\n",
            "1/1 - 6s - loss: 0.0901 - accuracy: 0.9769 - val_loss: 0.0365 - val_accuracy: 1.0000\n",
            "Epoch 154/250\n",
            "1/1 - 6s - loss: 0.0528 - accuracy: 1.0000 - val_loss: 0.0366 - val_accuracy: 1.0000\n",
            "Epoch 155/250\n",
            "1/1 - 6s - loss: 0.0727 - accuracy: 0.9815 - val_loss: 0.0381 - val_accuracy: 1.0000\n",
            "Epoch 156/250\n",
            "1/1 - 6s - loss: 0.0881 - accuracy: 0.9815 - val_loss: 0.0459 - val_accuracy: 1.0000\n",
            "Epoch 157/250\n",
            "1/1 - 6s - loss: 0.0874 - accuracy: 0.9815 - val_loss: 0.0618 - val_accuracy: 1.0000\n",
            "Epoch 158/250\n",
            "1/1 - 6s - loss: 0.0768 - accuracy: 0.9722 - val_loss: 0.0691 - val_accuracy: 1.0000\n",
            "Epoch 159/250\n",
            "1/1 - 6s - loss: 0.0815 - accuracy: 0.9722 - val_loss: 0.0547 - val_accuracy: 1.0000\n",
            "Epoch 160/250\n",
            "1/1 - 6s - loss: 0.0729 - accuracy: 0.9861 - val_loss: 0.0428 - val_accuracy: 1.0000\n",
            "Epoch 161/250\n",
            "1/1 - 6s - loss: 0.0352 - accuracy: 1.0000 - val_loss: 0.0398 - val_accuracy: 1.0000\n",
            "Epoch 162/250\n",
            "1/1 - 6s - loss: 0.0443 - accuracy: 0.9907 - val_loss: 0.0414 - val_accuracy: 1.0000\n",
            "Epoch 163/250\n",
            "1/1 - 6s - loss: 0.0678 - accuracy: 0.9861 - val_loss: 0.0401 - val_accuracy: 1.0000\n",
            "Epoch 164/250\n",
            "1/1 - 6s - loss: 0.0761 - accuracy: 0.9815 - val_loss: 0.0346 - val_accuracy: 1.0000\n",
            "Epoch 165/250\n",
            "1/1 - 6s - loss: 0.0437 - accuracy: 0.9954 - val_loss: 0.0301 - val_accuracy: 1.0000\n",
            "Epoch 166/250\n",
            "1/1 - 6s - loss: 0.0707 - accuracy: 0.9769 - val_loss: 0.0307 - val_accuracy: 1.0000\n",
            "Epoch 167/250\n",
            "1/1 - 6s - loss: 0.0883 - accuracy: 0.9630 - val_loss: 0.0363 - val_accuracy: 1.0000\n",
            "Epoch 168/250\n",
            "1/1 - 6s - loss: 0.0989 - accuracy: 0.9583 - val_loss: 0.0373 - val_accuracy: 1.0000\n",
            "Epoch 169/250\n",
            "1/1 - 6s - loss: 0.0753 - accuracy: 0.9722 - val_loss: 0.0302 - val_accuracy: 1.0000\n",
            "Epoch 170/250\n",
            "1/1 - 6s - loss: 0.0700 - accuracy: 0.9815 - val_loss: 0.0246 - val_accuracy: 1.0000\n",
            "Epoch 171/250\n",
            "1/1 - 6s - loss: 0.0457 - accuracy: 0.9954 - val_loss: 0.0207 - val_accuracy: 1.0000\n",
            "Epoch 172/250\n",
            "1/1 - 6s - loss: 0.0602 - accuracy: 0.9861 - val_loss: 0.0193 - val_accuracy: 1.0000\n",
            "Epoch 173/250\n",
            "1/1 - 6s - loss: 0.0469 - accuracy: 0.9907 - val_loss: 0.0188 - val_accuracy: 1.0000\n",
            "Epoch 174/250\n",
            "1/1 - 6s - loss: 0.0402 - accuracy: 0.9861 - val_loss: 0.0184 - val_accuracy: 1.0000\n",
            "Epoch 175/250\n",
            "1/1 - 6s - loss: 0.0545 - accuracy: 0.9861 - val_loss: 0.0193 - val_accuracy: 1.0000\n",
            "Epoch 176/250\n",
            "1/1 - 6s - loss: 0.0410 - accuracy: 1.0000 - val_loss: 0.0217 - val_accuracy: 1.0000\n",
            "Epoch 177/250\n",
            "1/1 - 6s - loss: 0.0504 - accuracy: 0.9954 - val_loss: 0.0254 - val_accuracy: 1.0000\n",
            "Epoch 178/250\n",
            "1/1 - 6s - loss: 0.0537 - accuracy: 0.9954 - val_loss: 0.0317 - val_accuracy: 1.0000\n",
            "Epoch 179/250\n",
            "1/1 - 6s - loss: 0.0459 - accuracy: 0.9907 - val_loss: 0.0413 - val_accuracy: 1.0000\n",
            "Epoch 180/250\n",
            "1/1 - 6s - loss: 0.0491 - accuracy: 0.9861 - val_loss: 0.0529 - val_accuracy: 1.0000\n",
            "Epoch 181/250\n",
            "1/1 - 6s - loss: 0.0466 - accuracy: 0.9861 - val_loss: 0.0571 - val_accuracy: 1.0000\n",
            "Epoch 182/250\n",
            "1/1 - 6s - loss: 0.0317 - accuracy: 0.9954 - val_loss: 0.0569 - val_accuracy: 1.0000\n",
            "Epoch 183/250\n",
            "1/1 - 6s - loss: 0.0690 - accuracy: 0.9861 - val_loss: 0.0418 - val_accuracy: 1.0000\n",
            "Epoch 184/250\n",
            "1/1 - 6s - loss: 0.0437 - accuracy: 0.9954 - val_loss: 0.0322 - val_accuracy: 1.0000\n",
            "Epoch 185/250\n",
            "1/1 - 6s - loss: 0.0755 - accuracy: 0.9722 - val_loss: 0.0288 - val_accuracy: 1.0000\n",
            "Epoch 186/250\n",
            "1/1 - 6s - loss: 0.0271 - accuracy: 1.0000 - val_loss: 0.0270 - val_accuracy: 1.0000\n",
            "Epoch 187/250\n",
            "1/1 - 6s - loss: 0.0378 - accuracy: 0.9954 - val_loss: 0.0261 - val_accuracy: 1.0000\n",
            "Epoch 188/250\n",
            "1/1 - 6s - loss: 0.0318 - accuracy: 0.9954 - val_loss: 0.0264 - val_accuracy: 1.0000\n",
            "Epoch 189/250\n",
            "1/1 - 6s - loss: 0.0378 - accuracy: 0.9861 - val_loss: 0.0278 - val_accuracy: 1.0000\n",
            "Epoch 190/250\n",
            "1/1 - 6s - loss: 0.0328 - accuracy: 1.0000 - val_loss: 0.0289 - val_accuracy: 1.0000\n",
            "Epoch 191/250\n",
            "1/1 - 6s - loss: 0.0286 - accuracy: 0.9954 - val_loss: 0.0312 - val_accuracy: 1.0000\n",
            "Epoch 192/250\n",
            "1/1 - 6s - loss: 0.0309 - accuracy: 0.9954 - val_loss: 0.0316 - val_accuracy: 1.0000\n",
            "Epoch 193/250\n",
            "1/1 - 6s - loss: 0.0641 - accuracy: 0.9769 - val_loss: 0.0280 - val_accuracy: 1.0000\n",
            "Epoch 194/250\n",
            "1/1 - 6s - loss: 0.0406 - accuracy: 0.9861 - val_loss: 0.0245 - val_accuracy: 1.0000\n",
            "Epoch 195/250\n",
            "1/1 - 6s - loss: 0.0403 - accuracy: 0.9954 - val_loss: 0.0226 - val_accuracy: 1.0000\n",
            "Epoch 196/250\n",
            "1/1 - 6s - loss: 0.0259 - accuracy: 0.9954 - val_loss: 0.0214 - val_accuracy: 1.0000\n",
            "Epoch 197/250\n",
            "1/1 - 6s - loss: 0.0581 - accuracy: 0.9769 - val_loss: 0.0200 - val_accuracy: 1.0000\n",
            "Epoch 198/250\n",
            "1/1 - 6s - loss: 0.0453 - accuracy: 0.9907 - val_loss: 0.0207 - val_accuracy: 1.0000\n",
            "Epoch 199/250\n",
            "1/1 - 6s - loss: 0.0315 - accuracy: 0.9907 - val_loss: 0.0214 - val_accuracy: 1.0000\n",
            "Epoch 200/250\n",
            "1/1 - 6s - loss: 0.0290 - accuracy: 1.0000 - val_loss: 0.0223 - val_accuracy: 1.0000\n",
            "Epoch 201/250\n",
            "1/1 - 6s - loss: 0.0204 - accuracy: 1.0000 - val_loss: 0.0244 - val_accuracy: 1.0000\n",
            "Epoch 202/250\n",
            "1/1 - 6s - loss: 0.0224 - accuracy: 1.0000 - val_loss: 0.0275 - val_accuracy: 1.0000\n",
            "Epoch 203/250\n",
            "1/1 - 6s - loss: 0.0232 - accuracy: 1.0000 - val_loss: 0.0320 - val_accuracy: 1.0000\n",
            "Epoch 204/250\n",
            "1/1 - 6s - loss: 0.0329 - accuracy: 0.9907 - val_loss: 0.0341 - val_accuracy: 1.0000\n",
            "Epoch 205/250\n",
            "1/1 - 6s - loss: 0.0328 - accuracy: 0.9954 - val_loss: 0.0356 - val_accuracy: 1.0000\n",
            "Epoch 206/250\n",
            "1/1 - 6s - loss: 0.0259 - accuracy: 0.9954 - val_loss: 0.0357 - val_accuracy: 1.0000\n",
            "Epoch 207/250\n",
            "1/1 - 6s - loss: 0.0129 - accuracy: 1.0000 - val_loss: 0.0355 - val_accuracy: 1.0000\n",
            "Epoch 208/250\n",
            "1/1 - 6s - loss: 0.0254 - accuracy: 0.9907 - val_loss: 0.0311 - val_accuracy: 1.0000\n",
            "Epoch 209/250\n",
            "1/1 - 6s - loss: 0.0237 - accuracy: 0.9954 - val_loss: 0.0299 - val_accuracy: 1.0000\n",
            "Epoch 210/250\n",
            "1/1 - 6s - loss: 0.0338 - accuracy: 0.9907 - val_loss: 0.0308 - val_accuracy: 1.0000\n",
            "Epoch 211/250\n",
            "1/1 - 6s - loss: 0.0219 - accuracy: 0.9954 - val_loss: 0.0310 - val_accuracy: 1.0000\n",
            "Epoch 212/250\n",
            "1/1 - 6s - loss: 0.0370 - accuracy: 0.9861 - val_loss: 0.0302 - val_accuracy: 1.0000\n",
            "Epoch 213/250\n",
            "1/1 - 6s - loss: 0.0254 - accuracy: 0.9954 - val_loss: 0.0293 - val_accuracy: 1.0000\n",
            "Epoch 214/250\n",
            "1/1 - 6s - loss: 0.0317 - accuracy: 0.9907 - val_loss: 0.0282 - val_accuracy: 1.0000\n",
            "Epoch 215/250\n",
            "1/1 - 6s - loss: 0.0372 - accuracy: 0.9907 - val_loss: 0.0290 - val_accuracy: 1.0000\n",
            "Epoch 216/250\n",
            "1/1 - 6s - loss: 0.0217 - accuracy: 1.0000 - val_loss: 0.0307 - val_accuracy: 1.0000\n",
            "Epoch 217/250\n",
            "1/1 - 6s - loss: 0.0337 - accuracy: 0.9954 - val_loss: 0.0327 - val_accuracy: 1.0000\n",
            "Epoch 218/250\n",
            "1/1 - 6s - loss: 0.0299 - accuracy: 0.9907 - val_loss: 0.0346 - val_accuracy: 1.0000\n",
            "Epoch 219/250\n",
            "1/1 - 6s - loss: 0.0185 - accuracy: 1.0000 - val_loss: 0.0351 - val_accuracy: 1.0000\n",
            "Epoch 220/250\n",
            "1/1 - 6s - loss: 0.0239 - accuracy: 0.9954 - val_loss: 0.0348 - val_accuracy: 1.0000\n",
            "Epoch 221/250\n",
            "1/1 - 6s - loss: 0.0448 - accuracy: 0.9815 - val_loss: 0.0324 - val_accuracy: 1.0000\n",
            "Epoch 222/250\n",
            "1/1 - 6s - loss: 0.0379 - accuracy: 0.9907 - val_loss: 0.0288 - val_accuracy: 1.0000\n",
            "Epoch 223/250\n",
            "1/1 - 6s - loss: 0.0215 - accuracy: 0.9954 - val_loss: 0.0264 - val_accuracy: 1.0000\n",
            "Epoch 224/250\n",
            "1/1 - 6s - loss: 0.0270 - accuracy: 0.9954 - val_loss: 0.0246 - val_accuracy: 1.0000\n",
            "Epoch 225/250\n",
            "1/1 - 6s - loss: 0.0162 - accuracy: 1.0000 - val_loss: 0.0240 - val_accuracy: 1.0000\n",
            "Epoch 226/250\n",
            "1/1 - 6s - loss: 0.0457 - accuracy: 0.9861 - val_loss: 0.0220 - val_accuracy: 1.0000\n",
            "Epoch 227/250\n",
            "1/1 - 6s - loss: 0.0205 - accuracy: 1.0000 - val_loss: 0.0211 - val_accuracy: 1.0000\n",
            "Epoch 228/250\n",
            "1/1 - 6s - loss: 0.0244 - accuracy: 0.9954 - val_loss: 0.0210 - val_accuracy: 1.0000\n",
            "Epoch 229/250\n",
            "1/1 - 6s - loss: 0.0281 - accuracy: 0.9907 - val_loss: 0.0202 - val_accuracy: 1.0000\n",
            "Epoch 230/250\n",
            "1/1 - 6s - loss: 0.0246 - accuracy: 0.9954 - val_loss: 0.0193 - val_accuracy: 1.0000\n",
            "Epoch 231/250\n",
            "1/1 - 6s - loss: 0.0222 - accuracy: 0.9954 - val_loss: 0.0183 - val_accuracy: 1.0000\n",
            "Epoch 232/250\n",
            "1/1 - 6s - loss: 0.0250 - accuracy: 0.9954 - val_loss: 0.0167 - val_accuracy: 1.0000\n",
            "Epoch 233/250\n",
            "1/1 - 6s - loss: 0.0217 - accuracy: 0.9954 - val_loss: 0.0150 - val_accuracy: 1.0000\n",
            "Epoch 234/250\n",
            "1/1 - 6s - loss: 0.0180 - accuracy: 0.9954 - val_loss: 0.0134 - val_accuracy: 1.0000\n",
            "Epoch 235/250\n",
            "1/1 - 6s - loss: 0.0122 - accuracy: 1.0000 - val_loss: 0.0124 - val_accuracy: 1.0000\n",
            "Epoch 236/250\n",
            "1/1 - 6s - loss: 0.0186 - accuracy: 1.0000 - val_loss: 0.0121 - val_accuracy: 1.0000\n",
            "Epoch 237/250\n",
            "1/1 - 6s - loss: 0.0142 - accuracy: 1.0000 - val_loss: 0.0122 - val_accuracy: 1.0000\n",
            "Epoch 238/250\n",
            "1/1 - 6s - loss: 0.0327 - accuracy: 0.9954 - val_loss: 0.0127 - val_accuracy: 1.0000\n",
            "Epoch 239/250\n",
            "1/1 - 6s - loss: 0.0184 - accuracy: 0.9954 - val_loss: 0.0133 - val_accuracy: 1.0000\n",
            "Epoch 240/250\n",
            "1/1 - 6s - loss: 0.0196 - accuracy: 0.9954 - val_loss: 0.0137 - val_accuracy: 1.0000\n",
            "Epoch 241/250\n",
            "1/1 - 6s - loss: 0.0255 - accuracy: 0.9954 - val_loss: 0.0146 - val_accuracy: 1.0000\n",
            "Epoch 242/250\n",
            "1/1 - 6s - loss: 0.0143 - accuracy: 1.0000 - val_loss: 0.0160 - val_accuracy: 1.0000\n",
            "Epoch 243/250\n",
            "1/1 - 6s - loss: 0.0228 - accuracy: 0.9907 - val_loss: 0.0171 - val_accuracy: 1.0000\n",
            "Epoch 244/250\n",
            "1/1 - 6s - loss: 0.0426 - accuracy: 0.9907 - val_loss: 0.0183 - val_accuracy: 1.0000\n",
            "Epoch 245/250\n",
            "1/1 - 6s - loss: 0.0153 - accuracy: 0.9954 - val_loss: 0.0196 - val_accuracy: 1.0000\n",
            "Epoch 246/250\n",
            "1/1 - 6s - loss: 0.0244 - accuracy: 0.9907 - val_loss: 0.0200 - val_accuracy: 1.0000\n",
            "Epoch 247/250\n",
            "1/1 - 6s - loss: 0.0068 - accuracy: 1.0000 - val_loss: 0.0204 - val_accuracy: 1.0000\n",
            "Epoch 248/250\n",
            "1/1 - 6s - loss: 0.0213 - accuracy: 1.0000 - val_loss: 0.0211 - val_accuracy: 1.0000\n",
            "Epoch 249/250\n",
            "1/1 - 6s - loss: 0.0222 - accuracy: 0.9954 - val_loss: 0.0232 - val_accuracy: 1.0000\n",
            "Epoch 250/250\n",
            "1/1 - 6s - loss: 0.0071 - accuracy: 1.0000 - val_loss: 0.0257 - val_accuracy: 1.0000\n"
          ],
          "name": "stdout"
        }
      ]
    },
    {
      "cell_type": "markdown",
      "metadata": {
        "id": "KmyNbnXkf20f"
      },
      "source": [
        "Evaluate the test data\n"
      ]
    },
    {
      "cell_type": "code",
      "metadata": {
        "id": "uH7gdIErf20f",
        "colab": {
          "base_uri": "https://localhost:8080/"
        },
        "outputId": "9cf05085-1414-444f-c81d-b717f76883c5"
      },
      "source": [
        "scor = cnn_model.evaluate(np.array(x_test),  np.array(y_test), verbose=1)\n",
        "print(scor)"
      ],
      "execution_count": 75,
      "outputs": [
        {
          "output_type": "stream",
          "text": [
            "5/5 [==============================] - 1s 253ms/step - loss: 0.2212 - accuracy: 0.9375\n",
            "[0.22119109332561493, 0.9375]\n"
          ],
          "name": "stdout"
        }
      ]
    },
    {
      "cell_type": "code",
      "metadata": {
        "colab": {
          "base_uri": "https://localhost:8080/"
        },
        "id": "TS2ik2o1X3OX",
        "outputId": "27080ec4-6e72-43cd-9c12-3ebea4996507"
      },
      "source": [
        "train_model.history.keys()"
      ],
      "execution_count": 76,
      "outputs": [
        {
          "output_type": "execute_result",
          "data": {
            "text/plain": [
              "dict_keys(['loss', 'accuracy', 'val_loss', 'val_accuracy'])"
            ]
          },
          "metadata": {
            "tags": []
          },
          "execution_count": 76
        }
      ]
    },
    {
      "cell_type": "markdown",
      "metadata": {
        "id": "GuSDK-6yf20f"
      },
      "source": [
        "# Step 7 \n",
        "\n",
        "plot the result"
      ]
    },
    {
      "cell_type": "code",
      "metadata": {
        "id": "7OU8xnY5f20f",
        "colab": {
          "base_uri": "https://localhost:8080/",
          "height": 573
        },
        "outputId": "39815856-e08b-48e1-f669-4f9509d98893"
      },
      "source": [
        "# Graph the summarize history for accuracy\n",
        "plt.plot(train_model.history['accuracy'])\n",
        "plt.plot(train_model.history['val_accuracy'])\n",
        "plt.title('model accuracy')\n",
        "plt.ylabel('accuracy')\n",
        "plt.xlabel('epoch')\n",
        "plt.legend(['train', 'test'], loc='upper left')\n",
        "plt.show()\n",
        "# Graph the summarize history for loss\n",
        "plt.plot(train_model.history['loss'])\n",
        "plt.plot(train_model.history['val_loss'])\n",
        "plt.title('model loss')\n",
        "plt.ylabel('loss')\n",
        "plt.xlabel('epoch')\n",
        "plt.legend(['train', 'test'], loc='upper left')\n",
        "plt.show()"
      ],
      "execution_count": 77,
      "outputs": [
        {
          "output_type": "display_data",
          "data": {
            "image/png": "[encoded data removed]",
            "text/plain": [
              "<Figure size 432x288 with 1 Axes>"
            ]
          },
          "metadata": {
            "tags": [],
            "needs_background": "light"
          }
        },
        {
          "output_type": "display_data",
          "data": {
            "image/png": "[encoded data removed]",
            "text/plain": [
              "<Figure size 432x288 with 1 Axes>"
            ]
          },
          "metadata": {
            "tags": [],
            "needs_background": "light"
          }
        }
      ]
    },
    {
      "cell_type": "markdown",
      "metadata": {
        "id": "ytz2Ck1Zf20g"
      },
      "source": [
        "# step 8\n",
        "\n",
        "Plot Confusion Matrix"
      ]
    },
    {
      "cell_type": "code",
      "metadata": {
        "id": "4bJKcDJbf20g",
        "colab": {
          "base_uri": "https://localhost:8080/",
          "height": 1000
        },
        "outputId": "12b45b09-c319-4cdd-b9cd-e796cbf54e51"
      },
      "source": [
        "predicted =np.array(cnn_model.predict(x_test))\n",
        "#print(predicted)\n",
        "#print(y_test)\n",
        "ynew = cnn_model.predict_classes(x_test)\n",
        "\n",
        "\n",
        "Acc = accuracy_score(y_test, ynew)\n",
        "print(\"accuracy : \")\n",
        "print(Acc)\n",
        "#/tn, fp, fn, tp = confusion_matrix(np.array(y_test), ynew).ravel()\n",
        "cnf_matrix=confusion_matrix(np.array(y_test), ynew)\n",
        "\n",
        "y_test1 = np_utils.to_categorical(y_test, 20)\n",
        "\n",
        "\n",
        "\n",
        "def plot_confusion_matrix(cm, classes,\n",
        "                          normalize=False,\n",
        "                          title='Confusion matrix',\n",
        "                          cmap=plt.cm.Blues):\n",
        "    \"\"\"\n",
        "    This function prints and plots the confusion matrix.\n",
        "    Normalization can be applied by setting `normalize=True`.\n",
        "    \"\"\"\n",
        "    if normalize:\n",
        "        cm = cm.astype('float') / cm.sum(axis=1)[:, np.newaxis]\n",
        "        #print(\"Normalized confusion matrix\")\n",
        "    else:\n",
        "        print('Confusion matrix, without normalization')\n",
        "\n",
        "    #print(cm)\n",
        "    plt.imshow(cm, interpolation='nearest', cmap=cmap)\n",
        "    plt.title(title)\n",
        "    plt.colorbar()\n",
        "    tick_marks = np.arange(len(classes))\n",
        "    plt.xticks(tick_marks, classes, rotation=45)\n",
        "    plt.yticks(tick_marks, classes)\n",
        "\n",
        "    fmt = '.2f' if normalize else 'd'\n",
        "    thresh = cm.max() / 2.\n",
        "    for i, j in itertools.product(range(cm.shape[0]), range(cm.shape[1])):\n",
        "        plt.text(j, i, format(cm[i, j], fmt),\n",
        "                 horizontalalignment=\"center\",\n",
        "                 color=\"white\" if cm[i, j] > thresh else \"black\")\n",
        "\n",
        "    plt.tight_layout()\n",
        "    plt.ylabel('True label')\n",
        "    plt.xlabel('Predicted label')\n",
        "    plt.show()\n",
        "\n",
        "\n",
        "print('Confusion matrix, without normalization')\n",
        "print(cnf_matrix)\n",
        "\n",
        "plt.figure()\n",
        "plot_confusion_matrix(cnf_matrix[1:10,1:10], classes=[0,1,2,3,4,5,6,7,8,9],\n",
        "                      title='Confusion matrix, without normalization')\n",
        "\n",
        "plt.figure()\n",
        "plot_confusion_matrix(cnf_matrix[11:20,11:20], classes=[10,11,12,13,14,15,16,17,18,19],\n",
        "                      title='Confusion matrix, without normalization')\n",
        "\n",
        "print(\"Confusion matrix:\\n%s\" % confusion_matrix(np.array(y_test), ynew[0:160]))\n",
        "print(classification_report(np.array(y_test), ynew[0:160]))"
      ],
      "execution_count": 78,
      "outputs": [
        {
          "output_type": "stream",
          "text": [
            "/usr/local/lib/python3.7/dist-packages/tensorflow/python/keras/engine/sequential.py:450: UserWarning: `model.predict_classes()` is deprecated and will be removed after 2021-01-01. Please use instead:* `np.argmax(model.predict(x), axis=-1)`,   if your model does multi-class classification   (e.g. if it uses a `softmax` last-layer activation).* `(model.predict(x) > 0.5).astype(\"int32\")`,   if your model does binary classification   (e.g. if it uses a `sigmoid` last-layer activation).\n",
            "  warnings.warn('`model.predict_classes()` is deprecated and '\n"
          ],
          "name": "stderr"
        },
        {
          "output_type": "stream",
          "text": [
            "accuracy : \n",
            "0.9375\n",
            "Confusion matrix, without normalization\n",
            "[[8 0 0 0 0 0 0 0 0 0 0 0 0 0 0 0 0 0 0 0]\n",
            " [0 8 0 0 0 0 0 0 0 0 0 0 0 0 0 0 0 0 0 0]\n",
            " [0 0 8 0 0 0 0 0 0 0 0 0 0 0 0 0 0 0 0 0]\n",
            " [0 0 0 8 0 0 0 0 0 0 0 0 0 0 0 0 0 0 0 0]\n",
            " [0 0 0 0 6 0 0 0 0 0 0 0 0 0 0 0 0 2 0 0]\n",
            " [0 0 0 0 0 8 0 0 0 0 0 0 0 0 0 0 0 0 0 0]\n",
            " [0 0 0 0 0 0 8 0 0 0 0 0 0 0 0 0 0 0 0 0]\n",
            " [0 0 0 0 0 0 0 8 0 0 0 0 0 0 0 0 0 0 0 0]\n",
            " [0 0 0 0 0 0 0 0 8 0 0 0 0 0 0 0 0 0 0 0]\n",
            " [0 0 0 0 0 0 0 0 0 8 0 0 0 0 0 0 0 0 0 0]\n",
            " [0 0 0 0 0 0 0 0 0 0 8 0 0 0 0 0 0 0 0 0]\n",
            " [0 0 0 0 0 0 0 0 0 0 0 8 0 0 0 0 0 0 0 0]\n",
            " [0 0 0 0 0 0 0 0 0 0 0 0 8 0 0 0 0 0 0 0]\n",
            " [0 0 0 0 0 0 0 0 0 0 2 0 0 6 0 0 0 0 0 0]\n",
            " [0 0 0 0 0 0 0 0 0 0 0 0 0 0 8 0 0 0 0 0]\n",
            " [0 0 0 0 0 0 0 0 0 0 0 0 0 0 0 4 2 0 2 0]\n",
            " [0 0 0 0 0 0 0 0 0 0 0 0 0 0 0 0 8 0 0 0]\n",
            " [0 0 0 0 0 0 0 0 0 0 0 0 0 0 0 0 0 8 0 0]\n",
            " [0 0 0 0 0 0 0 0 0 0 2 0 0 0 0 0 0 0 6 0]\n",
            " [0 0 0 0 0 0 0 0 0 0 0 0 0 0 0 0 0 0 0 8]]\n",
            "Confusion matrix, without normalization\n"
          ],
          "name": "stdout"
        },
        {
          "output_type": "display_data",
          "data": {
            "image/png": "[encoded data removed]",
            "text/plain": [
              "<Figure size 432x288 with 2 Axes>"
            ]
          },
          "metadata": {
            "tags": [],
            "needs_background": "light"
          }
        },
        {
          "output_type": "stream",
          "text": [
            "Confusion matrix, without normalization\n"
          ],
          "name": "stdout"
        },
        {
          "output_type": "display_data",
          "data": {
            "image/png": "[encoded data removed]",
            "text/plain": [
              "<Figure size 432x288 with 2 Axes>"
            ]
          },
          "metadata": {
            "tags": [],
            "needs_background": "light"
          }
        },
        {
          "output_type": "stream",
          "text": [
            "Confusion matrix:\n",
            "[[8 0 0 0 0 0 0 0 0 0 0 0 0 0 0 0 0 0 0 0]\n",
            " [0 8 0 0 0 0 0 0 0 0 0 0 0 0 0 0 0 0 0 0]\n",
            " [0 0 8 0 0 0 0 0 0 0 0 0 0 0 0 0 0 0 0 0]\n",
            " [0 0 0 8 0 0 0 0 0 0 0 0 0 0 0 0 0 0 0 0]\n",
            " [0 0 0 0 6 0 0 0 0 0 0 0 0 0 0 0 0 2 0 0]\n",
            " [0 0 0 0 0 8 0 0 0 0 0 0 0 0 0 0 0 0 0 0]\n",
            " [0 0 0 0 0 0 8 0 0 0 0 0 0 0 0 0 0 0 0 0]\n",
            " [0 0 0 0 0 0 0 8 0 0 0 0 0 0 0 0 0 0 0 0]\n",
            " [0 0 0 0 0 0 0 0 8 0 0 0 0 0 0 0 0 0 0 0]\n",
            " [0 0 0 0 0 0 0 0 0 8 0 0 0 0 0 0 0 0 0 0]\n",
            " [0 0 0 0 0 0 0 0 0 0 8 0 0 0 0 0 0 0 0 0]\n",
            " [0 0 0 0 0 0 0 0 0 0 0 8 0 0 0 0 0 0 0 0]\n",
            " [0 0 0 0 0 0 0 0 0 0 0 0 8 0 0 0 0 0 0 0]\n",
            " [0 0 0 0 0 0 0 0 0 0 2 0 0 6 0 0 0 0 0 0]\n",
            " [0 0 0 0 0 0 0 0 0 0 0 0 0 0 8 0 0 0 0 0]\n",
            " [0 0 0 0 0 0 0 0 0 0 0 0 0 0 0 4 2 0 2 0]\n",
            " [0 0 0 0 0 0 0 0 0 0 0 0 0 0 0 0 8 0 0 0]\n",
            " [0 0 0 0 0 0 0 0 0 0 0 0 0 0 0 0 0 8 0 0]\n",
            " [0 0 0 0 0 0 0 0 0 0 2 0 0 0 0 0 0 0 6 0]\n",
            " [0 0 0 0 0 0 0 0 0 0 0 0 0 0 0 0 0 0 0 8]]\n",
            "              precision    recall  f1-score   support\n",
            "\n",
            "           0       1.00      1.00      1.00         8\n",
            "           1       1.00      1.00      1.00         8\n",
            "           2       1.00      1.00      1.00         8\n",
            "           3       1.00      1.00      1.00         8\n",
            "           4       1.00      0.75      0.86         8\n",
            "           5       1.00      1.00      1.00         8\n",
            "           6       1.00      1.00      1.00         8\n",
            "           7       1.00      1.00      1.00         8\n",
            "           8       1.00      1.00      1.00         8\n",
            "           9       1.00      1.00      1.00         8\n",
            "          10       0.67      1.00      0.80         8\n",
            "          11       1.00      1.00      1.00         8\n",
            "          12       1.00      1.00      1.00         8\n",
            "          13       1.00      0.75      0.86         8\n",
            "          14       1.00      1.00      1.00         8\n",
            "          15       1.00      0.50      0.67         8\n",
            "          16       0.80      1.00      0.89         8\n",
            "          17       0.80      1.00      0.89         8\n",
            "          18       0.75      0.75      0.75         8\n",
            "          19       1.00      1.00      1.00         8\n",
            "\n",
            "    accuracy                           0.94       160\n",
            "   macro avg       0.95      0.94      0.94       160\n",
            "weighted avg       0.95      0.94      0.94       160\n",
            "\n"
          ],
          "name": "stdout"
        }
      ]
    }
  ]
}
